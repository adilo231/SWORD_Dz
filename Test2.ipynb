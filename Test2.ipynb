{
 "cells": [
  {
   "cell_type": "code",
   "execution_count": 1,
   "metadata": {},
   "outputs": [],
   "source": [
    "import DataStorage.GraphGenerator as gg\n",
    "\n",
    "import Model.Simulator as sim\n",
    "import numpy as np\n",
    "import pandas as pd\n",
    "import time\n",
    "from tqdm import  tqdm"
   ]
  },
  {
   "cell_type": "code",
   "execution_count": 3,
   "metadata": {},
   "outputs": [],
   "source": [
    "n = 300\n",
    "P = 0.3\n",
    "K = 100\n",
    "M = 20\n",
    "nbb = 0\n",
    "NbrSim = 50\n",
    "\n",
    "parameters = {'omega_min': np.pi/24,\n",
    "                'omega_max': np.pi*2,\n",
    "                \"delta_min\": np.pi/24,\n",
    "                \"delta_max\": np.pi/2,\n",
    "                \"jug_min\": 0.01,\n",
    "                \"jug_max\": 0.99,\n",
    "                \"beta_max\": 1.2,\n",
    "                \"beta_min\": 0.1}\n",
    "Generator=gg.CreateGraphFrmDB()\n",
    "Simulator = sim.RumorSimulator()\n",
    "typeOfSim=0\n",
    "k=int(0.1*4039)"
   ]
  },
  {
   "cell_type": "code",
   "execution_count": 4,
   "metadata": {},
   "outputs": [
    {
     "name": "stderr",
     "output_type": "stream",
     "text": [
      "  2%|▏         | 1/50 [06:39<5:25:59, 399.17s/it]"
     ]
    },
    {
     "name": "stdout",
     "output_type": "stream",
     "text": [
      "Network measures statistics calculated.\n"
     ]
    },
    {
     "name": "stderr",
     "output_type": "stream",
     "text": [
      "  4%|▍         | 2/50 [14:06<5:41:57, 427.45s/it]"
     ]
    },
    {
     "name": "stdout",
     "output_type": "stream",
     "text": [
      "Network measures statistics calculated.\n"
     ]
    },
    {
     "name": "stderr",
     "output_type": "stream",
     "text": [
      "  6%|▌         | 3/50 [21:00<5:30:01, 421.30s/it]"
     ]
    },
    {
     "name": "stdout",
     "output_type": "stream",
     "text": [
      "Network measures statistics calculated.\n"
     ]
    },
    {
     "name": "stderr",
     "output_type": "stream",
     "text": [
      "  8%|▊         | 4/50 [26:57<5:03:32, 395.92s/it]"
     ]
    },
    {
     "name": "stdout",
     "output_type": "stream",
     "text": [
      "Network measures statistics calculated.\n"
     ]
    },
    {
     "name": "stderr",
     "output_type": "stream",
     "text": [
      " 10%|█         | 5/50 [32:37<4:41:47, 375.72s/it]"
     ]
    },
    {
     "name": "stdout",
     "output_type": "stream",
     "text": [
      "Network measures statistics calculated.\n"
     ]
    },
    {
     "name": "stderr",
     "output_type": "stream",
     "text": [
      " 12%|█▏        | 6/50 [38:29<4:29:33, 367.58s/it]"
     ]
    },
    {
     "name": "stdout",
     "output_type": "stream",
     "text": [
      "Network measures statistics calculated.\n"
     ]
    },
    {
     "name": "stderr",
     "output_type": "stream",
     "text": [
      " 14%|█▍        | 7/50 [44:56<4:27:57, 373.90s/it]"
     ]
    },
    {
     "name": "stdout",
     "output_type": "stream",
     "text": [
      "Network measures statistics calculated.\n"
     ]
    },
    {
     "name": "stderr",
     "output_type": "stream",
     "text": [
      " 16%|█▌        | 8/50 [52:37<4:41:11, 401.70s/it]"
     ]
    },
    {
     "name": "stdout",
     "output_type": "stream",
     "text": [
      "Network measures statistics calculated.\n"
     ]
    },
    {
     "name": "stderr",
     "output_type": "stream",
     "text": [
      " 18%|█▊        | 9/50 [58:22<4:22:30, 384.16s/it]"
     ]
    },
    {
     "name": "stdout",
     "output_type": "stream",
     "text": [
      "Network measures statistics calculated.\n"
     ]
    },
    {
     "name": "stderr",
     "output_type": "stream",
     "text": [
      " 20%|██        | 10/50 [1:05:41<4:27:18, 400.95s/it]"
     ]
    },
    {
     "name": "stdout",
     "output_type": "stream",
     "text": [
      "Network measures statistics calculated.\n"
     ]
    },
    {
     "name": "stderr",
     "output_type": "stream",
     "text": [
      " 22%|██▏       | 11/50 [1:12:29<4:22:05, 403.22s/it]"
     ]
    },
    {
     "name": "stdout",
     "output_type": "stream",
     "text": [
      "Network measures statistics calculated.\n"
     ]
    },
    {
     "name": "stderr",
     "output_type": "stream",
     "text": [
      " 24%|██▍       | 12/50 [1:19:14<4:15:43, 403.78s/it]"
     ]
    },
    {
     "name": "stdout",
     "output_type": "stream",
     "text": [
      "Network measures statistics calculated.\n"
     ]
    },
    {
     "name": "stderr",
     "output_type": "stream",
     "text": [
      " 26%|██▌       | 13/50 [1:24:47<3:55:43, 382.27s/it]"
     ]
    },
    {
     "name": "stdout",
     "output_type": "stream",
     "text": [
      "Network measures statistics calculated.\n"
     ]
    },
    {
     "name": "stderr",
     "output_type": "stream",
     "text": [
      " 28%|██▊       | 14/50 [1:29:53<3:35:31, 359.20s/it]"
     ]
    },
    {
     "name": "stdout",
     "output_type": "stream",
     "text": [
      "Network measures statistics calculated.\n"
     ]
    },
    {
     "name": "stderr",
     "output_type": "stream",
     "text": [
      " 30%|███       | 15/50 [1:34:44<3:17:32, 338.65s/it]"
     ]
    },
    {
     "name": "stdout",
     "output_type": "stream",
     "text": [
      "Network measures statistics calculated.\n"
     ]
    },
    {
     "name": "stderr",
     "output_type": "stream",
     "text": [
      " 32%|███▏      | 16/50 [1:39:56<3:07:19, 330.57s/it]"
     ]
    },
    {
     "name": "stdout",
     "output_type": "stream",
     "text": [
      "Network measures statistics calculated.\n"
     ]
    },
    {
     "name": "stderr",
     "output_type": "stream",
     "text": [
      " 34%|███▍      | 17/50 [1:44:48<2:55:30, 319.12s/it]"
     ]
    },
    {
     "name": "stdout",
     "output_type": "stream",
     "text": [
      "Network measures statistics calculated.\n"
     ]
    },
    {
     "name": "stderr",
     "output_type": "stream",
     "text": [
      " 36%|███▌      | 18/50 [1:49:51<2:47:32, 314.15s/it]"
     ]
    },
    {
     "name": "stdout",
     "output_type": "stream",
     "text": [
      "Network measures statistics calculated.\n"
     ]
    },
    {
     "name": "stderr",
     "output_type": "stream",
     "text": [
      " 38%|███▊      | 19/50 [1:54:46<2:39:22, 308.47s/it]"
     ]
    },
    {
     "name": "stdout",
     "output_type": "stream",
     "text": [
      "Network measures statistics calculated.\n"
     ]
    },
    {
     "name": "stderr",
     "output_type": "stream",
     "text": [
      " 40%|████      | 20/50 [1:59:53<2:34:02, 308.10s/it]"
     ]
    },
    {
     "name": "stdout",
     "output_type": "stream",
     "text": [
      "Network measures statistics calculated.\n"
     ]
    },
    {
     "name": "stderr",
     "output_type": "stream",
     "text": [
      " 42%|████▏     | 21/50 [2:04:50<2:27:18, 304.77s/it]"
     ]
    },
    {
     "name": "stdout",
     "output_type": "stream",
     "text": [
      "Network measures statistics calculated.\n"
     ]
    },
    {
     "name": "stderr",
     "output_type": "stream",
     "text": [
      " 44%|████▍     | 22/50 [2:09:55<2:22:12, 304.72s/it]"
     ]
    },
    {
     "name": "stdout",
     "output_type": "stream",
     "text": [
      "Network measures statistics calculated.\n"
     ]
    },
    {
     "name": "stderr",
     "output_type": "stream",
     "text": [
      " 46%|████▌     | 23/50 [2:14:47<2:15:25, 300.93s/it]"
     ]
    },
    {
     "name": "stdout",
     "output_type": "stream",
     "text": [
      "Network measures statistics calculated.\n"
     ]
    },
    {
     "name": "stderr",
     "output_type": "stream",
     "text": [
      " 48%|████▊     | 24/50 [2:20:01<2:12:07, 304.90s/it]"
     ]
    },
    {
     "name": "stdout",
     "output_type": "stream",
     "text": [
      "Network measures statistics calculated.\n"
     ]
    },
    {
     "name": "stderr",
     "output_type": "stream",
     "text": [
      " 50%|█████     | 25/50 [2:25:11<2:07:38, 306.36s/it]"
     ]
    },
    {
     "name": "stdout",
     "output_type": "stream",
     "text": [
      "Network measures statistics calculated.\n"
     ]
    },
    {
     "name": "stderr",
     "output_type": "stream",
     "text": [
      " 52%|█████▏    | 26/50 [2:30:19<2:02:42, 306.77s/it]"
     ]
    },
    {
     "name": "stdout",
     "output_type": "stream",
     "text": [
      "Network measures statistics calculated.\n"
     ]
    },
    {
     "name": "stderr",
     "output_type": "stream",
     "text": [
      " 54%|█████▍    | 27/50 [2:35:00<1:54:43, 299.26s/it]"
     ]
    },
    {
     "name": "stdout",
     "output_type": "stream",
     "text": [
      "Network measures statistics calculated.\n"
     ]
    },
    {
     "name": "stderr",
     "output_type": "stream",
     "text": [
      " 56%|█████▌    | 28/50 [2:40:13<1:51:11, 303.24s/it]"
     ]
    },
    {
     "name": "stdout",
     "output_type": "stream",
     "text": [
      "Network measures statistics calculated.\n"
     ]
    },
    {
     "name": "stderr",
     "output_type": "stream",
     "text": [
      " 58%|█████▊    | 29/50 [2:45:01<1:44:30, 298.61s/it]"
     ]
    },
    {
     "name": "stdout",
     "output_type": "stream",
     "text": [
      "Network measures statistics calculated.\n"
     ]
    },
    {
     "name": "stderr",
     "output_type": "stream",
     "text": [
      " 60%|██████    | 30/50 [2:49:54<1:38:59, 296.98s/it]"
     ]
    },
    {
     "name": "stdout",
     "output_type": "stream",
     "text": [
      "Network measures statistics calculated.\n"
     ]
    },
    {
     "name": "stderr",
     "output_type": "stream",
     "text": [
      " 62%|██████▏   | 31/50 [2:54:44<1:33:23, 294.91s/it]"
     ]
    },
    {
     "name": "stdout",
     "output_type": "stream",
     "text": [
      "Network measures statistics calculated.\n"
     ]
    },
    {
     "name": "stderr",
     "output_type": "stream",
     "text": [
      " 64%|██████▍   | 32/50 [2:59:41<1:28:39, 295.55s/it]"
     ]
    },
    {
     "name": "stdout",
     "output_type": "stream",
     "text": [
      "Network measures statistics calculated.\n"
     ]
    },
    {
     "name": "stderr",
     "output_type": "stream",
     "text": [
      " 66%|██████▌   | 33/50 [3:04:29<1:23:07, 293.39s/it]"
     ]
    },
    {
     "name": "stdout",
     "output_type": "stream",
     "text": [
      "Network measures statistics calculated.\n"
     ]
    },
    {
     "name": "stderr",
     "output_type": "stream",
     "text": [
      " 68%|██████▊   | 34/50 [3:09:13<1:17:25, 290.33s/it]"
     ]
    },
    {
     "name": "stdout",
     "output_type": "stream",
     "text": [
      "Network measures statistics calculated.\n"
     ]
    },
    {
     "name": "stderr",
     "output_type": "stream",
     "text": [
      " 70%|███████   | 35/50 [3:14:14<1:13:24, 293.61s/it]"
     ]
    },
    {
     "name": "stdout",
     "output_type": "stream",
     "text": [
      "Network measures statistics calculated.\n"
     ]
    },
    {
     "name": "stderr",
     "output_type": "stream",
     "text": [
      " 72%|███████▏  | 36/50 [3:19:09<1:08:38, 294.16s/it]"
     ]
    },
    {
     "name": "stdout",
     "output_type": "stream",
     "text": [
      "Network measures statistics calculated.\n"
     ]
    },
    {
     "name": "stderr",
     "output_type": "stream",
     "text": [
      " 74%|███████▍  | 37/50 [3:24:20<1:04:47, 299.06s/it]"
     ]
    },
    {
     "name": "stdout",
     "output_type": "stream",
     "text": [
      "Network measures statistics calculated.\n"
     ]
    },
    {
     "name": "stderr",
     "output_type": "stream",
     "text": [
      " 76%|███████▌  | 38/50 [3:29:07<59:07, 295.60s/it]  "
     ]
    },
    {
     "name": "stdout",
     "output_type": "stream",
     "text": [
      "Network measures statistics calculated.\n"
     ]
    },
    {
     "name": "stderr",
     "output_type": "stream",
     "text": [
      " 78%|███████▊  | 39/50 [3:34:05<54:17, 296.17s/it]"
     ]
    },
    {
     "name": "stdout",
     "output_type": "stream",
     "text": [
      "Network measures statistics calculated.\n"
     ]
    },
    {
     "name": "stderr",
     "output_type": "stream",
     "text": [
      " 80%|████████  | 40/50 [3:38:54<49:01, 294.14s/it]"
     ]
    },
    {
     "name": "stdout",
     "output_type": "stream",
     "text": [
      "Network measures statistics calculated.\n"
     ]
    },
    {
     "name": "stderr",
     "output_type": "stream",
     "text": [
      " 82%|████████▏ | 41/50 [3:43:51<44:14, 294.96s/it]"
     ]
    },
    {
     "name": "stdout",
     "output_type": "stream",
     "text": [
      "Network measures statistics calculated.\n"
     ]
    },
    {
     "name": "stderr",
     "output_type": "stream",
     "text": [
      " 84%|████████▍ | 42/50 [3:48:41<39:07, 293.47s/it]"
     ]
    },
    {
     "name": "stdout",
     "output_type": "stream",
     "text": [
      "Network measures statistics calculated.\n"
     ]
    },
    {
     "name": "stderr",
     "output_type": "stream",
     "text": [
      " 86%|████████▌ | 43/50 [3:53:45<34:35, 296.50s/it]"
     ]
    },
    {
     "name": "stdout",
     "output_type": "stream",
     "text": [
      "Network measures statistics calculated.\n"
     ]
    },
    {
     "name": "stderr",
     "output_type": "stream",
     "text": [
      " 88%|████████▊ | 44/50 [3:58:36<29:30, 295.08s/it]"
     ]
    },
    {
     "name": "stdout",
     "output_type": "stream",
     "text": [
      "Network measures statistics calculated.\n"
     ]
    },
    {
     "name": "stderr",
     "output_type": "stream",
     "text": [
      " 90%|█████████ | 45/50 [4:03:54<25:09, 301.88s/it]"
     ]
    },
    {
     "name": "stdout",
     "output_type": "stream",
     "text": [
      "Network measures statistics calculated.\n"
     ]
    },
    {
     "name": "stderr",
     "output_type": "stream",
     "text": [
      " 92%|█████████▏| 46/50 [4:08:43<19:52, 298.02s/it]"
     ]
    },
    {
     "name": "stdout",
     "output_type": "stream",
     "text": [
      "Network measures statistics calculated.\n"
     ]
    },
    {
     "name": "stderr",
     "output_type": "stream",
     "text": [
      " 94%|█████████▍| 47/50 [4:13:50<15:01, 300.64s/it]"
     ]
    },
    {
     "name": "stdout",
     "output_type": "stream",
     "text": [
      "Network measures statistics calculated.\n"
     ]
    },
    {
     "name": "stderr",
     "output_type": "stream",
     "text": [
      " 96%|█████████▌| 48/50 [4:18:39<09:54, 297.17s/it]"
     ]
    },
    {
     "name": "stdout",
     "output_type": "stream",
     "text": [
      "Network measures statistics calculated.\n"
     ]
    },
    {
     "name": "stderr",
     "output_type": "stream",
     "text": [
      " 98%|█████████▊| 49/50 [4:23:58<05:03, 303.59s/it]"
     ]
    },
    {
     "name": "stdout",
     "output_type": "stream",
     "text": [
      "Network measures statistics calculated.\n"
     ]
    },
    {
     "name": "stderr",
     "output_type": "stream",
     "text": [
      "100%|██████████| 50/50 [4:28:48<00:00, 322.57s/it]"
     ]
    },
    {
     "name": "stdout",
     "output_type": "stream",
     "text": [
      "Network measures statistics calculated.\n"
     ]
    },
    {
     "name": "stderr",
     "output_type": "stream",
     "text": [
      "\n"
     ]
    },
    {
     "data": {
      "text/html": [
       "<div>\n",
       "<style scoped>\n",
       "    .dataframe tbody tr th:only-of-type {\n",
       "        vertical-align: middle;\n",
       "    }\n",
       "\n",
       "    .dataframe tbody tr th {\n",
       "        vertical-align: top;\n",
       "    }\n",
       "\n",
       "    .dataframe thead th {\n",
       "        text-align: right;\n",
       "    }\n",
       "</style>\n",
       "<table border=\"1\" class=\"dataframe\">\n",
       "  <thead>\n",
       "    <tr style=\"text-align: right;\">\n",
       "      <th></th>\n",
       "      <th>AccpR</th>\n",
       "      <th>SendR</th>\n",
       "      <th>Accp_NegR</th>\n",
       "      <th>Nb_Accpted_Rm</th>\n",
       "      <th>beta</th>\n",
       "      <th>omega</th>\n",
       "      <th>delta</th>\n",
       "      <th>jug</th>\n",
       "      <th>deg_cent</th>\n",
       "      <th>clos_cent</th>\n",
       "      <th>betw_cent</th>\n",
       "      <th>page_rank</th>\n",
       "      <th>degree</th>\n",
       "    </tr>\n",
       "  </thead>\n",
       "  <tbody>\n",
       "    <tr>\n",
       "      <th>0</th>\n",
       "      <td>2.56</td>\n",
       "      <td>182.30</td>\n",
       "      <td>0.94</td>\n",
       "      <td>31.04</td>\n",
       "      <td>0.901944</td>\n",
       "      <td>4.899337</td>\n",
       "      <td>1.056969</td>\n",
       "      <td>0.354119</td>\n",
       "      <td>0.085934</td>\n",
       "      <td>0.353343</td>\n",
       "      <td>1.463059e-01</td>\n",
       "      <td>0.006374</td>\n",
       "      <td>347.0</td>\n",
       "    </tr>\n",
       "    <tr>\n",
       "      <th>1</th>\n",
       "      <td>2.28</td>\n",
       "      <td>8.54</td>\n",
       "      <td>0.70</td>\n",
       "      <td>0.60</td>\n",
       "      <td>0.898467</td>\n",
       "      <td>1.904572</td>\n",
       "      <td>0.751252</td>\n",
       "      <td>0.458029</td>\n",
       "      <td>0.002476</td>\n",
       "      <td>0.261258</td>\n",
       "      <td>7.595021e-08</td>\n",
       "      <td>0.000204</td>\n",
       "      <td>10.0</td>\n",
       "    </tr>\n",
       "    <tr>\n",
       "      <th>2</th>\n",
       "      <td>1.20</td>\n",
       "      <td>11.34</td>\n",
       "      <td>0.56</td>\n",
       "      <td>0.52</td>\n",
       "      <td>0.295389</td>\n",
       "      <td>3.667620</td>\n",
       "      <td>0.801840</td>\n",
       "      <td>0.841213</td>\n",
       "      <td>0.004210</td>\n",
       "      <td>0.261376</td>\n",
       "      <td>1.685066e-06</td>\n",
       "      <td>0.000226</td>\n",
       "      <td>17.0</td>\n",
       "    </tr>\n",
       "    <tr>\n",
       "      <th>3</th>\n",
       "      <td>1.94</td>\n",
       "      <td>13.44</td>\n",
       "      <td>0.88</td>\n",
       "      <td>0.60</td>\n",
       "      <td>0.673380</td>\n",
       "      <td>0.788377</td>\n",
       "      <td>0.165741</td>\n",
       "      <td>0.589971</td>\n",
       "      <td>0.002476</td>\n",
       "      <td>0.261258</td>\n",
       "      <td>1.840332e-07</td>\n",
       "      <td>0.000244</td>\n",
       "      <td>10.0</td>\n",
       "    </tr>\n",
       "    <tr>\n",
       "      <th>4</th>\n",
       "      <td>0.20</td>\n",
       "      <td>9.44</td>\n",
       "      <td>0.10</td>\n",
       "      <td>0.80</td>\n",
       "      <td>0.117944</td>\n",
       "      <td>2.355621</td>\n",
       "      <td>0.666138</td>\n",
       "      <td>0.480265</td>\n",
       "      <td>0.003219</td>\n",
       "      <td>0.261308</td>\n",
       "      <td>2.205964e-06</td>\n",
       "      <td>0.000209</td>\n",
       "      <td>13.0</td>\n",
       "    </tr>\n",
       "    <tr>\n",
       "      <th>...</th>\n",
       "      <td>...</td>\n",
       "      <td>...</td>\n",
       "      <td>...</td>\n",
       "      <td>...</td>\n",
       "      <td>...</td>\n",
       "      <td>...</td>\n",
       "      <td>...</td>\n",
       "      <td>...</td>\n",
       "      <td>...</td>\n",
       "      <td>...</td>\n",
       "      <td>...</td>\n",
       "      <td>...</td>\n",
       "      <td>...</td>\n",
       "    </tr>\n",
       "    <tr>\n",
       "      <th>4034</th>\n",
       "      <td>0.02</td>\n",
       "      <td>0.04</td>\n",
       "      <td>0.00</td>\n",
       "      <td>0.00</td>\n",
       "      <td>0.901885</td>\n",
       "      <td>1.931445</td>\n",
       "      <td>1.051334</td>\n",
       "      <td>0.251470</td>\n",
       "      <td>0.000248</td>\n",
       "      <td>0.183980</td>\n",
       "      <td>0.000000e+00</td>\n",
       "      <td>0.000079</td>\n",
       "      <td>1.0</td>\n",
       "    </tr>\n",
       "    <tr>\n",
       "      <th>4035</th>\n",
       "      <td>0.02</td>\n",
       "      <td>0.00</td>\n",
       "      <td>0.02</td>\n",
       "      <td>0.00</td>\n",
       "      <td>0.821386</td>\n",
       "      <td>4.435962</td>\n",
       "      <td>0.725595</td>\n",
       "      <td>0.807886</td>\n",
       "      <td>0.000248</td>\n",
       "      <td>0.183980</td>\n",
       "      <td>0.000000e+00</td>\n",
       "      <td>0.000079</td>\n",
       "      <td>1.0</td>\n",
       "    </tr>\n",
       "    <tr>\n",
       "      <th>4036</th>\n",
       "      <td>0.00</td>\n",
       "      <td>0.00</td>\n",
       "      <td>0.00</td>\n",
       "      <td>0.00</td>\n",
       "      <td>0.604836</td>\n",
       "      <td>3.421017</td>\n",
       "      <td>1.454037</td>\n",
       "      <td>0.405557</td>\n",
       "      <td>0.000495</td>\n",
       "      <td>0.183989</td>\n",
       "      <td>0.000000e+00</td>\n",
       "      <td>0.000132</td>\n",
       "      <td>2.0</td>\n",
       "    </tr>\n",
       "    <tr>\n",
       "      <th>4037</th>\n",
       "      <td>0.04</td>\n",
       "      <td>0.00</td>\n",
       "      <td>0.02</td>\n",
       "      <td>0.00</td>\n",
       "      <td>0.584728</td>\n",
       "      <td>5.116907</td>\n",
       "      <td>0.867384</td>\n",
       "      <td>0.684822</td>\n",
       "      <td>0.000248</td>\n",
       "      <td>0.183980</td>\n",
       "      <td>0.000000e+00</td>\n",
       "      <td>0.000079</td>\n",
       "      <td>1.0</td>\n",
       "    </tr>\n",
       "    <tr>\n",
       "      <th>4038</th>\n",
       "      <td>0.00</td>\n",
       "      <td>0.00</td>\n",
       "      <td>0.00</td>\n",
       "      <td>0.00</td>\n",
       "      <td>0.312727</td>\n",
       "      <td>6.060104</td>\n",
       "      <td>0.641812</td>\n",
       "      <td>0.693875</td>\n",
       "      <td>0.000248</td>\n",
       "      <td>0.183980</td>\n",
       "      <td>0.000000e+00</td>\n",
       "      <td>0.000079</td>\n",
       "      <td>1.0</td>\n",
       "    </tr>\n",
       "  </tbody>\n",
       "</table>\n",
       "<p>4039 rows × 13 columns</p>\n",
       "</div>"
      ],
      "text/plain": [
       "      AccpR   SendR  Accp_NegR  Nb_Accpted_Rm      beta     omega     delta  \\\n",
       "0      2.56  182.30       0.94          31.04  0.901944  4.899337  1.056969   \n",
       "1      2.28    8.54       0.70           0.60  0.898467  1.904572  0.751252   \n",
       "2      1.20   11.34       0.56           0.52  0.295389  3.667620  0.801840   \n",
       "3      1.94   13.44       0.88           0.60  0.673380  0.788377  0.165741   \n",
       "4      0.20    9.44       0.10           0.80  0.117944  2.355621  0.666138   \n",
       "...     ...     ...        ...            ...       ...       ...       ...   \n",
       "4034   0.02    0.04       0.00           0.00  0.901885  1.931445  1.051334   \n",
       "4035   0.02    0.00       0.02           0.00  0.821386  4.435962  0.725595   \n",
       "4036   0.00    0.00       0.00           0.00  0.604836  3.421017  1.454037   \n",
       "4037   0.04    0.00       0.02           0.00  0.584728  5.116907  0.867384   \n",
       "4038   0.00    0.00       0.00           0.00  0.312727  6.060104  0.641812   \n",
       "\n",
       "           jug  deg_cent  clos_cent     betw_cent  page_rank  degree  \n",
       "0     0.354119  0.085934   0.353343  1.463059e-01   0.006374   347.0  \n",
       "1     0.458029  0.002476   0.261258  7.595021e-08   0.000204    10.0  \n",
       "2     0.841213  0.004210   0.261376  1.685066e-06   0.000226    17.0  \n",
       "3     0.589971  0.002476   0.261258  1.840332e-07   0.000244    10.0  \n",
       "4     0.480265  0.003219   0.261308  2.205964e-06   0.000209    13.0  \n",
       "...        ...       ...        ...           ...        ...     ...  \n",
       "4034  0.251470  0.000248   0.183980  0.000000e+00   0.000079     1.0  \n",
       "4035  0.807886  0.000248   0.183980  0.000000e+00   0.000079     1.0  \n",
       "4036  0.405557  0.000495   0.183989  0.000000e+00   0.000132     2.0  \n",
       "4037  0.684822  0.000248   0.183980  0.000000e+00   0.000079     1.0  \n",
       "4038  0.693875  0.000248   0.183980  0.000000e+00   0.000079     1.0  \n",
       "\n",
       "[4039 rows x 13 columns]"
      ]
     },
     "execution_count": 4,
     "metadata": {},
     "output_type": "execute_result"
    }
   ],
   "source": [
    "l=[]\n",
    "for i in tqdm(range(0,50)):\n",
    "    g = Generator.CreateGraph(parameters,graphModel='FB')\n",
    "    aux = Simulator.runSimulation(g, NbrSim=NbrSim ,seedsSize=0.01, typeOfSim=typeOfSim,simName=f'sim{i}',verbose=False,method='None',k=int(0.1*g.number_of_nodes()),Tdet=1000000)\n",
    "    l.append(aux)\n",
    "l[0]"
   ]
  },
  {
   "cell_type": "code",
   "execution_count": 6,
   "metadata": {},
   "outputs": [
    {
     "data": {
      "text/plain": [
       "(201950, 13)"
      ]
     },
     "execution_count": 6,
     "metadata": {},
     "output_type": "execute_result"
    }
   ],
   "source": [
    "df = l[0]\n",
    "for i  in range(1,50):\n",
    "    df =pd.concat([df,l[i]])\n",
    "df.shape"
   ]
  },
  {
   "cell_type": "code",
   "execution_count": 7,
   "metadata": {},
   "outputs": [],
   "source": [
    "df.to_csv('SimulationResults/SimType0/data',index=False)"
   ]
  },
  {
   "cell_type": "code",
   "execution_count": 15,
   "metadata": {},
   "outputs": [],
   "source": [
    "data= {f\"sim{i}\":df.iloc[i*4039] for i in range(0,50)}"
   ]
  },
  {
   "cell_type": "code",
   "execution_count": 17,
   "metadata": {},
   "outputs": [
    {
     "data": {
      "text/html": [
       "<div>\n",
       "<style scoped>\n",
       "    .dataframe tbody tr th:only-of-type {\n",
       "        vertical-align: middle;\n",
       "    }\n",
       "\n",
       "    .dataframe tbody tr th {\n",
       "        vertical-align: top;\n",
       "    }\n",
       "\n",
       "    .dataframe thead th {\n",
       "        text-align: right;\n",
       "    }\n",
       "</style>\n",
       "<table border=\"1\" class=\"dataframe\">\n",
       "  <thead>\n",
       "    <tr style=\"text-align: right;\">\n",
       "      <th></th>\n",
       "      <th>sim0</th>\n",
       "      <th>sim1</th>\n",
       "      <th>sim2</th>\n",
       "      <th>sim3</th>\n",
       "      <th>sim4</th>\n",
       "      <th>sim5</th>\n",
       "      <th>sim6</th>\n",
       "      <th>sim7</th>\n",
       "      <th>sim8</th>\n",
       "      <th>sim9</th>\n",
       "      <th>...</th>\n",
       "      <th>sim40</th>\n",
       "      <th>sim41</th>\n",
       "      <th>sim42</th>\n",
       "      <th>sim43</th>\n",
       "      <th>sim44</th>\n",
       "      <th>sim45</th>\n",
       "      <th>sim46</th>\n",
       "      <th>sim47</th>\n",
       "      <th>sim48</th>\n",
       "      <th>sim49</th>\n",
       "    </tr>\n",
       "  </thead>\n",
       "  <tbody>\n",
       "    <tr>\n",
       "      <th>AccpR</th>\n",
       "      <td>2.560000</td>\n",
       "      <td>4.140000</td>\n",
       "      <td>3.580000</td>\n",
       "      <td>3.080000</td>\n",
       "      <td>4.360000</td>\n",
       "      <td>3.020000</td>\n",
       "      <td>3.660000</td>\n",
       "      <td>3.440000</td>\n",
       "      <td>4.220000</td>\n",
       "      <td>3.420000</td>\n",
       "      <td>...</td>\n",
       "      <td>3.580000</td>\n",
       "      <td>3.300000</td>\n",
       "      <td>2.720000</td>\n",
       "      <td>2.980000</td>\n",
       "      <td>3.420000</td>\n",
       "      <td>3.080000</td>\n",
       "      <td>3.420000</td>\n",
       "      <td>3.380000</td>\n",
       "      <td>3.900000</td>\n",
       "      <td>3.880000</td>\n",
       "    </tr>\n",
       "    <tr>\n",
       "      <th>SendR</th>\n",
       "      <td>182.300000</td>\n",
       "      <td>298.660000</td>\n",
       "      <td>763.900000</td>\n",
       "      <td>660.860000</td>\n",
       "      <td>368.060000</td>\n",
       "      <td>204.600000</td>\n",
       "      <td>312.600000</td>\n",
       "      <td>602.980000</td>\n",
       "      <td>274.940000</td>\n",
       "      <td>466.520000</td>\n",
       "      <td>...</td>\n",
       "      <td>228.260000</td>\n",
       "      <td>336.420000</td>\n",
       "      <td>499.800000</td>\n",
       "      <td>602.260000</td>\n",
       "      <td>492.080000</td>\n",
       "      <td>147.380000</td>\n",
       "      <td>184.880000</td>\n",
       "      <td>182.180000</td>\n",
       "      <td>345.580000</td>\n",
       "      <td>237.180000</td>\n",
       "    </tr>\n",
       "    <tr>\n",
       "      <th>Accp_NegR</th>\n",
       "      <td>0.940000</td>\n",
       "      <td>1.820000</td>\n",
       "      <td>1.280000</td>\n",
       "      <td>1.460000</td>\n",
       "      <td>1.480000</td>\n",
       "      <td>1.240000</td>\n",
       "      <td>1.540000</td>\n",
       "      <td>1.140000</td>\n",
       "      <td>1.780000</td>\n",
       "      <td>1.620000</td>\n",
       "      <td>...</td>\n",
       "      <td>1.160000</td>\n",
       "      <td>1.380000</td>\n",
       "      <td>1.180000</td>\n",
       "      <td>1.140000</td>\n",
       "      <td>1.500000</td>\n",
       "      <td>1.280000</td>\n",
       "      <td>1.500000</td>\n",
       "      <td>1.540000</td>\n",
       "      <td>1.580000</td>\n",
       "      <td>1.660000</td>\n",
       "    </tr>\n",
       "    <tr>\n",
       "      <th>Nb_Accpted_Rm</th>\n",
       "      <td>31.040000</td>\n",
       "      <td>53.140000</td>\n",
       "      <td>133.220000</td>\n",
       "      <td>111.600000</td>\n",
       "      <td>63.960000</td>\n",
       "      <td>34.960000</td>\n",
       "      <td>52.840000</td>\n",
       "      <td>104.320000</td>\n",
       "      <td>47.060000</td>\n",
       "      <td>80.880000</td>\n",
       "      <td>...</td>\n",
       "      <td>39.180000</td>\n",
       "      <td>58.840000</td>\n",
       "      <td>84.320000</td>\n",
       "      <td>103.740000</td>\n",
       "      <td>86.760000</td>\n",
       "      <td>26.360000</td>\n",
       "      <td>31.880000</td>\n",
       "      <td>32.060000</td>\n",
       "      <td>59.320000</td>\n",
       "      <td>41.940000</td>\n",
       "    </tr>\n",
       "    <tr>\n",
       "      <th>beta</th>\n",
       "      <td>0.901944</td>\n",
       "      <td>0.831783</td>\n",
       "      <td>0.314001</td>\n",
       "      <td>0.334991</td>\n",
       "      <td>0.623546</td>\n",
       "      <td>1.034307</td>\n",
       "      <td>0.736928</td>\n",
       "      <td>0.350470</td>\n",
       "      <td>0.928710</td>\n",
       "      <td>0.481707</td>\n",
       "      <td>...</td>\n",
       "      <td>0.847751</td>\n",
       "      <td>0.656422</td>\n",
       "      <td>0.311099</td>\n",
       "      <td>0.481250</td>\n",
       "      <td>0.487932</td>\n",
       "      <td>1.162095</td>\n",
       "      <td>1.070457</td>\n",
       "      <td>0.975740</td>\n",
       "      <td>0.629497</td>\n",
       "      <td>1.001088</td>\n",
       "    </tr>\n",
       "    <tr>\n",
       "      <th>omega</th>\n",
       "      <td>4.899337</td>\n",
       "      <td>3.042540</td>\n",
       "      <td>2.962529</td>\n",
       "      <td>2.130811</td>\n",
       "      <td>3.501974</td>\n",
       "      <td>3.017041</td>\n",
       "      <td>3.107521</td>\n",
       "      <td>1.072242</td>\n",
       "      <td>2.273971</td>\n",
       "      <td>4.411114</td>\n",
       "      <td>...</td>\n",
       "      <td>4.263914</td>\n",
       "      <td>3.126430</td>\n",
       "      <td>5.514694</td>\n",
       "      <td>0.290545</td>\n",
       "      <td>2.996061</td>\n",
       "      <td>3.136988</td>\n",
       "      <td>3.931533</td>\n",
       "      <td>2.775363</td>\n",
       "      <td>5.644455</td>\n",
       "      <td>5.606828</td>\n",
       "    </tr>\n",
       "    <tr>\n",
       "      <th>delta</th>\n",
       "      <td>1.056969</td>\n",
       "      <td>1.123149</td>\n",
       "      <td>0.395998</td>\n",
       "      <td>0.627762</td>\n",
       "      <td>0.507863</td>\n",
       "      <td>0.801357</td>\n",
       "      <td>0.433799</td>\n",
       "      <td>1.317745</td>\n",
       "      <td>0.915235</td>\n",
       "      <td>0.477505</td>\n",
       "      <td>...</td>\n",
       "      <td>1.227963</td>\n",
       "      <td>1.539052</td>\n",
       "      <td>0.488198</td>\n",
       "      <td>1.375071</td>\n",
       "      <td>1.007875</td>\n",
       "      <td>1.278098</td>\n",
       "      <td>1.550042</td>\n",
       "      <td>1.107782</td>\n",
       "      <td>1.444425</td>\n",
       "      <td>1.374587</td>\n",
       "    </tr>\n",
       "    <tr>\n",
       "      <th>jug</th>\n",
       "      <td>0.354119</td>\n",
       "      <td>0.471415</td>\n",
       "      <td>0.862479</td>\n",
       "      <td>0.339820</td>\n",
       "      <td>0.173273</td>\n",
       "      <td>0.695227</td>\n",
       "      <td>0.550498</td>\n",
       "      <td>0.395129</td>\n",
       "      <td>0.276819</td>\n",
       "      <td>0.558701</td>\n",
       "      <td>...</td>\n",
       "      <td>0.841285</td>\n",
       "      <td>0.305435</td>\n",
       "      <td>0.418663</td>\n",
       "      <td>0.620094</td>\n",
       "      <td>0.649562</td>\n",
       "      <td>0.098738</td>\n",
       "      <td>0.580262</td>\n",
       "      <td>0.586297</td>\n",
       "      <td>0.179515</td>\n",
       "      <td>0.819846</td>\n",
       "    </tr>\n",
       "    <tr>\n",
       "      <th>deg_cent</th>\n",
       "      <td>0.085934</td>\n",
       "      <td>0.085934</td>\n",
       "      <td>0.085934</td>\n",
       "      <td>0.085934</td>\n",
       "      <td>0.085934</td>\n",
       "      <td>0.085934</td>\n",
       "      <td>0.085934</td>\n",
       "      <td>0.085934</td>\n",
       "      <td>0.085934</td>\n",
       "      <td>0.085934</td>\n",
       "      <td>...</td>\n",
       "      <td>0.085934</td>\n",
       "      <td>0.085934</td>\n",
       "      <td>0.085934</td>\n",
       "      <td>0.085934</td>\n",
       "      <td>0.085934</td>\n",
       "      <td>0.085934</td>\n",
       "      <td>0.085934</td>\n",
       "      <td>0.085934</td>\n",
       "      <td>0.085934</td>\n",
       "      <td>0.085934</td>\n",
       "    </tr>\n",
       "    <tr>\n",
       "      <th>clos_cent</th>\n",
       "      <td>0.353343</td>\n",
       "      <td>0.353343</td>\n",
       "      <td>0.353343</td>\n",
       "      <td>0.353343</td>\n",
       "      <td>0.353343</td>\n",
       "      <td>0.353343</td>\n",
       "      <td>0.353343</td>\n",
       "      <td>0.353343</td>\n",
       "      <td>0.353343</td>\n",
       "      <td>0.353343</td>\n",
       "      <td>...</td>\n",
       "      <td>0.353343</td>\n",
       "      <td>0.353343</td>\n",
       "      <td>0.353343</td>\n",
       "      <td>0.353343</td>\n",
       "      <td>0.353343</td>\n",
       "      <td>0.353343</td>\n",
       "      <td>0.353343</td>\n",
       "      <td>0.353343</td>\n",
       "      <td>0.353343</td>\n",
       "      <td>0.353343</td>\n",
       "    </tr>\n",
       "    <tr>\n",
       "      <th>betw_cent</th>\n",
       "      <td>0.146306</td>\n",
       "      <td>0.146306</td>\n",
       "      <td>0.146306</td>\n",
       "      <td>0.146306</td>\n",
       "      <td>0.146306</td>\n",
       "      <td>0.146306</td>\n",
       "      <td>0.146306</td>\n",
       "      <td>0.146306</td>\n",
       "      <td>0.146306</td>\n",
       "      <td>0.146306</td>\n",
       "      <td>...</td>\n",
       "      <td>0.146306</td>\n",
       "      <td>0.146306</td>\n",
       "      <td>0.146306</td>\n",
       "      <td>0.146306</td>\n",
       "      <td>0.146306</td>\n",
       "      <td>0.146306</td>\n",
       "      <td>0.146306</td>\n",
       "      <td>0.146306</td>\n",
       "      <td>0.146306</td>\n",
       "      <td>0.146306</td>\n",
       "    </tr>\n",
       "    <tr>\n",
       "      <th>page_rank</th>\n",
       "      <td>0.006374</td>\n",
       "      <td>0.006374</td>\n",
       "      <td>0.006374</td>\n",
       "      <td>0.006374</td>\n",
       "      <td>0.006374</td>\n",
       "      <td>0.006374</td>\n",
       "      <td>0.006374</td>\n",
       "      <td>0.006374</td>\n",
       "      <td>0.006374</td>\n",
       "      <td>0.006374</td>\n",
       "      <td>...</td>\n",
       "      <td>0.006374</td>\n",
       "      <td>0.006374</td>\n",
       "      <td>0.006374</td>\n",
       "      <td>0.006374</td>\n",
       "      <td>0.006374</td>\n",
       "      <td>0.006374</td>\n",
       "      <td>0.006374</td>\n",
       "      <td>0.006374</td>\n",
       "      <td>0.006374</td>\n",
       "      <td>0.006374</td>\n",
       "    </tr>\n",
       "    <tr>\n",
       "      <th>degree</th>\n",
       "      <td>347.000000</td>\n",
       "      <td>347.000000</td>\n",
       "      <td>347.000000</td>\n",
       "      <td>347.000000</td>\n",
       "      <td>347.000000</td>\n",
       "      <td>347.000000</td>\n",
       "      <td>347.000000</td>\n",
       "      <td>347.000000</td>\n",
       "      <td>347.000000</td>\n",
       "      <td>347.000000</td>\n",
       "      <td>...</td>\n",
       "      <td>347.000000</td>\n",
       "      <td>347.000000</td>\n",
       "      <td>347.000000</td>\n",
       "      <td>347.000000</td>\n",
       "      <td>347.000000</td>\n",
       "      <td>347.000000</td>\n",
       "      <td>347.000000</td>\n",
       "      <td>347.000000</td>\n",
       "      <td>347.000000</td>\n",
       "      <td>347.000000</td>\n",
       "    </tr>\n",
       "  </tbody>\n",
       "</table>\n",
       "<p>13 rows × 50 columns</p>\n",
       "</div>"
      ],
      "text/plain": [
       "                     sim0        sim1        sim2        sim3        sim4  \\\n",
       "AccpR            2.560000    4.140000    3.580000    3.080000    4.360000   \n",
       "SendR          182.300000  298.660000  763.900000  660.860000  368.060000   \n",
       "Accp_NegR        0.940000    1.820000    1.280000    1.460000    1.480000   \n",
       "Nb_Accpted_Rm   31.040000   53.140000  133.220000  111.600000   63.960000   \n",
       "beta             0.901944    0.831783    0.314001    0.334991    0.623546   \n",
       "omega            4.899337    3.042540    2.962529    2.130811    3.501974   \n",
       "delta            1.056969    1.123149    0.395998    0.627762    0.507863   \n",
       "jug              0.354119    0.471415    0.862479    0.339820    0.173273   \n",
       "deg_cent         0.085934    0.085934    0.085934    0.085934    0.085934   \n",
       "clos_cent        0.353343    0.353343    0.353343    0.353343    0.353343   \n",
       "betw_cent        0.146306    0.146306    0.146306    0.146306    0.146306   \n",
       "page_rank        0.006374    0.006374    0.006374    0.006374    0.006374   \n",
       "degree         347.000000  347.000000  347.000000  347.000000  347.000000   \n",
       "\n",
       "                     sim5        sim6        sim7        sim8        sim9  \\\n",
       "AccpR            3.020000    3.660000    3.440000    4.220000    3.420000   \n",
       "SendR          204.600000  312.600000  602.980000  274.940000  466.520000   \n",
       "Accp_NegR        1.240000    1.540000    1.140000    1.780000    1.620000   \n",
       "Nb_Accpted_Rm   34.960000   52.840000  104.320000   47.060000   80.880000   \n",
       "beta             1.034307    0.736928    0.350470    0.928710    0.481707   \n",
       "omega            3.017041    3.107521    1.072242    2.273971    4.411114   \n",
       "delta            0.801357    0.433799    1.317745    0.915235    0.477505   \n",
       "jug              0.695227    0.550498    0.395129    0.276819    0.558701   \n",
       "deg_cent         0.085934    0.085934    0.085934    0.085934    0.085934   \n",
       "clos_cent        0.353343    0.353343    0.353343    0.353343    0.353343   \n",
       "betw_cent        0.146306    0.146306    0.146306    0.146306    0.146306   \n",
       "page_rank        0.006374    0.006374    0.006374    0.006374    0.006374   \n",
       "degree         347.000000  347.000000  347.000000  347.000000  347.000000   \n",
       "\n",
       "               ...       sim40       sim41       sim42       sim43  \\\n",
       "AccpR          ...    3.580000    3.300000    2.720000    2.980000   \n",
       "SendR          ...  228.260000  336.420000  499.800000  602.260000   \n",
       "Accp_NegR      ...    1.160000    1.380000    1.180000    1.140000   \n",
       "Nb_Accpted_Rm  ...   39.180000   58.840000   84.320000  103.740000   \n",
       "beta           ...    0.847751    0.656422    0.311099    0.481250   \n",
       "omega          ...    4.263914    3.126430    5.514694    0.290545   \n",
       "delta          ...    1.227963    1.539052    0.488198    1.375071   \n",
       "jug            ...    0.841285    0.305435    0.418663    0.620094   \n",
       "deg_cent       ...    0.085934    0.085934    0.085934    0.085934   \n",
       "clos_cent      ...    0.353343    0.353343    0.353343    0.353343   \n",
       "betw_cent      ...    0.146306    0.146306    0.146306    0.146306   \n",
       "page_rank      ...    0.006374    0.006374    0.006374    0.006374   \n",
       "degree         ...  347.000000  347.000000  347.000000  347.000000   \n",
       "\n",
       "                    sim44       sim45       sim46       sim47       sim48  \\\n",
       "AccpR            3.420000    3.080000    3.420000    3.380000    3.900000   \n",
       "SendR          492.080000  147.380000  184.880000  182.180000  345.580000   \n",
       "Accp_NegR        1.500000    1.280000    1.500000    1.540000    1.580000   \n",
       "Nb_Accpted_Rm   86.760000   26.360000   31.880000   32.060000   59.320000   \n",
       "beta             0.487932    1.162095    1.070457    0.975740    0.629497   \n",
       "omega            2.996061    3.136988    3.931533    2.775363    5.644455   \n",
       "delta            1.007875    1.278098    1.550042    1.107782    1.444425   \n",
       "jug              0.649562    0.098738    0.580262    0.586297    0.179515   \n",
       "deg_cent         0.085934    0.085934    0.085934    0.085934    0.085934   \n",
       "clos_cent        0.353343    0.353343    0.353343    0.353343    0.353343   \n",
       "betw_cent        0.146306    0.146306    0.146306    0.146306    0.146306   \n",
       "page_rank        0.006374    0.006374    0.006374    0.006374    0.006374   \n",
       "degree         347.000000  347.000000  347.000000  347.000000  347.000000   \n",
       "\n",
       "                    sim49  \n",
       "AccpR            3.880000  \n",
       "SendR          237.180000  \n",
       "Accp_NegR        1.660000  \n",
       "Nb_Accpted_Rm   41.940000  \n",
       "beta             1.001088  \n",
       "omega            5.606828  \n",
       "delta            1.374587  \n",
       "jug              0.819846  \n",
       "deg_cent         0.085934  \n",
       "clos_cent        0.353343  \n",
       "betw_cent        0.146306  \n",
       "page_rank        0.006374  \n",
       "degree         347.000000  \n",
       "\n",
       "[13 rows x 50 columns]"
      ]
     },
     "execution_count": 17,
     "metadata": {},
     "output_type": "execute_result"
    }
   ],
   "source": [
    "\n",
    "d= pd.DataFrame(data=data,index= df.columns)\n",
    "d"
   ]
  },
  {
   "cell_type": "code",
   "execution_count": 18,
   "metadata": {},
   "outputs": [],
   "source": [
    "import matplotlib.pyplot as plt"
   ]
  },
  {
   "cell_type": "code",
   "execution_count": 25,
   "metadata": {},
   "outputs": [
    {
     "data": {
      "text/plain": [
       "<matplotlib.collections.PathCollection at 0x7fe0fa7b9ca0>"
      ]
     },
     "execution_count": 25,
     "metadata": {},
     "output_type": "execute_result"
    },
    {
     "data": {
      "image/png": "[encoded data removed]",
      "text/plain": [
       "<Figure size 432x288 with 1 Axes>"
      ]
     },
     "metadata": {},
     "output_type": "display_data"
    }
   ],
   "source": [
    "plt.scatter(d.loc['delta'],d.loc['SendR'])"
   ]
  },
  {
   "cell_type": "code",
   "execution_count": null,
   "metadata": {},
   "outputs": [],
   "source": [
    "dic={'SS':61.16,\n",
    "     \"Robuts\":63.65,\n",
    "     \"MinMax\":62.17,\n",
    "     \"Robuts beta degree\":63.65,}"
   ]
  }
 ],
 "metadata": {
  "kernelspec": {
   "display_name": "base",
   "language": "python",
   "name": "python3"
  },
  "language_info": {
   "codemirror_mode": {
    "name": "ipython",
    "version": 3
   },
   "file_extension": ".py",
   "mimetype": "text/x-python",
   "name": "python",
   "nbconvert_exporter": "python",
   "pygments_lexer": "ipython3",
   "version": "3.8.5"
  },
  "orig_nbformat": 4
 },
 "nbformat": 4,
 "nbformat_minor": 2
}
