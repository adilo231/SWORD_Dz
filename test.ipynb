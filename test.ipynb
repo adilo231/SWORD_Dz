{
 "cells": [
  {
   "cell_type": "code",
   "execution_count": 1,
   "metadata": {},
   "outputs": [],
   "source": [
    "import networkx as nx\n",
    "import numpy as np\n"
   ]
  },
  {
   "cell_type": "code",
   "execution_count": 147,
   "metadata": {},
   "outputs": [
    {
     "name": "stdout",
     "output_type": "stream",
     "text": [
      "1.1636225002169913\n",
      "3.159485868536188\n",
      "0.8106004168462955\n",
      "0.6571967816440741\n",
      "0.0\n",
      "0.0\n",
      "0.0\n",
      "0.0\n",
      "non_infected\n"
     ]
    }
   ],
   "source": [
    "\n",
    "g= nx.barabasi_albert_graph(100,2)\n",
    "n=g.number_of_nodes()\n",
    "attributes =[ \"beta\",\"omega\",\"delta\",\"jug\",\"Infetime\",\"AccpR\",\"SendR\",\"Accp_NegR\",'state']\n",
    "parameters={'omega_min':np.pi/24,\n",
    "            'omega_max':np.pi*2,\n",
    "            \"delta_min\":np.pi/24,\n",
    "            \"jug_min\":0.1,\n",
    "            \"delta_max\":np.pi/2,\n",
    "            \"jug_max\":0.9,\n",
    "            \"beta_max\":1.2,\n",
    "            \"beta_min\":0.2}\n",
    "InitParameters(g,parameters)\n",
    "\n",
    "for atrib in attributes:\n",
    "     print(g.nodes[0][atrib])\n",
    "\n",
    "\n"
   ]
  },
  {
   "cell_type": "code",
   "execution_count": 152,
   "metadata": {},
   "outputs": [
    {
     "data": {
      "text/plain": [
       "[1, 2, 3, 4, 9, 12, 15, 16, 24, 25, 28, 34, 68, 87]"
      ]
     },
     "execution_count": 152,
     "metadata": {},
     "output_type": "execute_result"
    }
   ],
   "source": [
    "l=list(g.neighbors(0))\n",
    "l"
   ]
  },
  {
   "cell_type": "code",
   "execution_count": 155,
   "metadata": {},
   "outputs": [
    {
     "data": {
      "text/plain": [
       "[87]"
      ]
     },
     "execution_count": 155,
     "metadata": {},
     "output_type": "execute_result"
    }
   ],
   "source": [
    "l=list(g.neighbors(0))\n",
    "neighbours=list(g.neighbors(0))\n",
    "                    #Calculating if any nodes of those neighbours can be activated, if yes add them to new_ones.\n",
    "success = np.random.uniform(0,1,len(neighbours)) < 0.1 #choic alpha nodes\n",
    "# success == [ True  True  True False  True .... True False False  True False]\n",
    "new_ones = list(np.extract(success, neighbours))\n",
    "new_ones"
   ]
  },
  {
   "cell_type": "code",
   "execution_count": 149,
   "metadata": {},
   "outputs": [
    {
     "ename": "TypeError",
     "evalue": "'dict_keyiterator' object is not subscriptable",
     "output_type": "error",
     "traceback": [
      "\u001b[0;31m---------------------------------------------------------------------------\u001b[0m",
      "\u001b[0;31mTypeError\u001b[0m                                 Traceback (most recent call last)",
      "\u001b[0;32m<ipython-input-149-3ab7b1771a57>\u001b[0m in \u001b[0;36m<module>\u001b[0;34m\u001b[0m\n\u001b[0;32m----> 1\u001b[0;31m \u001b[0mg\u001b[0m\u001b[0;34m.\u001b[0m\u001b[0mneighbors\u001b[0m\u001b[0;34m(\u001b[0m\u001b[0;36m0\u001b[0m\u001b[0;34m)\u001b[0m\u001b[0;34m[\u001b[0m\u001b[0;36m0\u001b[0m\u001b[0;34m]\u001b[0m\u001b[0;34m\u001b[0m\u001b[0;34m\u001b[0m\u001b[0m\n\u001b[0m",
      "\u001b[0;31mTypeError\u001b[0m: 'dict_keyiterator' object is not subscriptable"
     ]
    }
   ],
   "source": [
    "g.neighbors(0)"
   ]
  },
  {
   "cell_type": "code",
   "execution_count": 76,
   "metadata": {},
   "outputs": [],
   "source": [
    "def getRandomValues(n,min,max):\n",
    "    return (np.random.rand(n)*(max - min)) + min\n",
    "def InitParameters(g,parameters):\n",
    "    n=g.number_of_nodes()\n",
    "\n",
    "    # Set omega\n",
    "    \n",
    "    values = dict( enumerate(getRandomValues(n,parameters['omega_min'],parameters['omega_max'])) )\n",
    "    nx.set_node_attributes(g, values, 'omega')\n",
    "    # Set beta\n",
    "    values = dict( enumerate(getRandomValues(n,parameters['beta_min'],parameters['beta_max'])) )\n",
    "    nx.set_node_attributes(g, values, 'beta')\n",
    "    # Set delta\n",
    "    values = dict( enumerate(getRandomValues(n,parameters['delta_min'],parameters['delta_max'])) )\n",
    "    nx.set_node_attributes(g, values, 'delta')\n",
    "\n",
    "    # Set jug\n",
    "    values = dict( enumerate(getRandomValues(n,parameters['jug_min'],parameters['jug_max'])) )\n",
    "    nx.set_node_attributes(g, values, 'jug')\n",
    "\n",
    "    # Set other Attributes\n",
    "    attributes =[ \"Infetime\",\"AccpR\",\"SendR\",\"Accp_NegR\"]\n",
    "    zeros = dict( enumerate(np.zeros(n)) )\n",
    "    for atrrib in attributes:\n",
    "        nx.set_node_attributes(g, zeros, atrrib)\n",
    "\n",
    "    nx.set_node_attributes(g, 'non_infected', \"state\")\n",
    "\n",
    "\n",
    "\n"
   ]
  },
  {
   "cell_type": "code",
   "execution_count": 49,
   "metadata": {},
   "outputs": [
    {
     "data": {
      "text/plain": [
       "-1.1558003365726555"
      ]
     },
     "execution_count": 49,
     "metadata": {},
     "output_type": "execute_result"
    }
   ],
   "source": [
    "g.nodes[4]['beta']"
   ]
  },
  {
   "cell_type": "code",
   "execution_count": 81,
   "metadata": {},
   "outputs": [
    {
     "name": "stdout",
     "output_type": "stream",
     "text": [
      "omega 5.640547876300778\n",
      "beta 0.26934357378138246\n",
      "delta 1.4411781200324525\n",
      "jug 0.8375771617600689\n",
      "Infetime 0.0\n",
      "AccpR 0.0\n",
      "SendR 0.0\n",
      "Accp_NegR 0.0\n",
      "state non_infected\n"
     ]
    }
   ],
   "source": [
    "for u in g.nodes[0]:\n",
    "    print (u, g.nodes[0][u])"
   ]
  },
  {
   "cell_type": "code",
   "execution_count": 63,
   "metadata": {},
   "outputs": [
    {
     "data": {
      "text/plain": [
       "-0.08575023899374185"
      ]
     },
     "execution_count": 63,
     "metadata": {},
     "output_type": "execute_result"
    }
   ],
   "source": [
    "np.random.rand()*min"
   ]
  },
  {
   "cell_type": "code",
   "execution_count": 83,
   "metadata": {},
   "outputs": [
    {
     "ename": "NetworkXError",
     "evalue": "NodeView does not support slicing, try list(G.nodes)[None:None:None]",
     "output_type": "error",
     "traceback": [
      "\u001b[0;31m---------------------------------------------------------------------------\u001b[0m",
      "\u001b[0;31mNetworkXError\u001b[0m                             Traceback (most recent call last)",
      "\u001b[0;32m<ipython-input-83-c93baab8c6d2>\u001b[0m in \u001b[0;36m<module>\u001b[0;34m\u001b[0m\n\u001b[0;32m----> 1\u001b[0;31m \u001b[0mlist\u001b[0m\u001b[0;34m(\u001b[0m\u001b[0mg\u001b[0m\u001b[0;34m.\u001b[0m\u001b[0mnodes\u001b[0m\u001b[0;34m[\u001b[0m\u001b[0;34m:\u001b[0m\u001b[0;34m]\u001b[0m\u001b[0;34m)\u001b[0m\u001b[0;34m\u001b[0m\u001b[0;34m\u001b[0m\u001b[0m\n\u001b[0m",
      "\u001b[0;32m~/opt/anaconda3/lib/python3.8/site-packages/networkx/classes/reportviews.py\u001b[0m in \u001b[0;36m__getitem__\u001b[0;34m(self, n)\u001b[0m\n\u001b[1;32m    188\u001b[0m     \u001b[0;32mdef\u001b[0m \u001b[0m__getitem__\u001b[0m\u001b[0;34m(\u001b[0m\u001b[0mself\u001b[0m\u001b[0;34m,\u001b[0m \u001b[0mn\u001b[0m\u001b[0;34m)\u001b[0m\u001b[0;34m:\u001b[0m\u001b[0;34m\u001b[0m\u001b[0;34m\u001b[0m\u001b[0m\n\u001b[1;32m    189\u001b[0m         \u001b[0;32mif\u001b[0m \u001b[0misinstance\u001b[0m\u001b[0;34m(\u001b[0m\u001b[0mn\u001b[0m\u001b[0;34m,\u001b[0m \u001b[0mslice\u001b[0m\u001b[0;34m)\u001b[0m\u001b[0;34m:\u001b[0m\u001b[0;34m\u001b[0m\u001b[0;34m\u001b[0m\u001b[0m\n\u001b[0;32m--> 190\u001b[0;31m             raise nx.NetworkXError(\n\u001b[0m\u001b[1;32m    191\u001b[0m                 \u001b[0;34mf\"{type(self).__name__} does not support slicing, \"\u001b[0m\u001b[0;34m\u001b[0m\u001b[0;34m\u001b[0m\u001b[0m\n\u001b[1;32m    192\u001b[0m                 \u001b[0;34mf\"try list(G.nodes)[{n.start}:{n.stop}:{n.step}]\"\u001b[0m\u001b[0;34m\u001b[0m\u001b[0;34m\u001b[0m\u001b[0m\n",
      "\u001b[0;31mNetworkXError\u001b[0m: NodeView does not support slicing, try list(G.nodes)[None:None:None]"
     ]
    }
   ],
   "source": [
    "l=['S','D']\n",
    "\n"
   ]
  },
  {
   "cell_type": "code",
   "execution_count": 99,
   "metadata": {},
   "outputs": [
    {
     "data": {
      "text/plain": [
       "['a', 'a', 'b', 'a', 'a', 'b', 'b', 'b']"
      ]
     },
     "execution_count": 99,
     "metadata": {},
     "output_type": "execute_result"
    }
   ],
   "source": [
    "l= ['a','b']\n",
    "import random \n",
    "random.choices(l,k=8)\n"
   ]
  },
  {
   "cell_type": "code",
   "execution_count": 86,
   "metadata": {},
   "outputs": [
    {
     "data": {
      "text/plain": [
       "array([0., 0., 0., 0., 0., 0., 0., 0., 0., 0., 0., 0., 0., 0., 0., 0., 0.,\n",
       "       0., 0., 0., 0., 0., 0., 0., 0., 0., 0., 0., 0., 0., 0., 0., 0., 0.,\n",
       "       0., 0., 0., 0., 0., 0., 0., 0., 0., 0., 0., 0., 0., 0., 0., 0., 0.,\n",
       "       0., 0., 0., 0., 0., 0., 0., 0., 0., 0., 0., 0., 0., 0., 0., 0., 0.,\n",
       "       0., 0., 0., 0., 0., 0., 0., 0., 0., 0., 0., 0., 0., 0., 0., 0., 0.,\n",
       "       0., 0., 0., 0., 0., 0., 0., 0., 0., 0., 0., 0., 0., 0., 0.])"
      ]
     },
     "execution_count": 86,
     "metadata": {},
     "output_type": "execute_result"
    }
   ],
   "source": [
    "array= np.zeros(100)\n",
    "array"
   ]
  },
  {
   "cell_type": "code",
   "execution_count": 96,
   "metadata": {},
   "outputs": [
    {
     "data": {
      "text/plain": [
       "[(0, 0.26934357378138246),\n",
       " (1, 0.857721875777008),\n",
       " (2, 0.48092267996507493),\n",
       " (3, 0.37166382464909103),\n",
       " (4, 0.7838387304824015)]"
      ]
     },
     "execution_count": 96,
     "metadata": {},
     "output_type": "execute_result"
    }
   ],
   "source": [
    "beta =list(g.nodes(data=\"beta\"))\n",
    "beta[:]\n"
   ]
  },
  {
   "cell_type": "code",
   "execution_count": 121,
   "metadata": {},
   "outputs": [
    {
     "name": "stdout",
     "output_type": "stream",
     "text": [
      "********\n",
      "6 t\n",
      "5 u\n",
      "4 g\n",
      "3 d\n",
      "2 c\n",
      "1 b\n"
     ]
    },
    {
     "ename": "TypeError",
     "evalue": "'str' object cannot be interpreted as an integer",
     "output_type": "error",
     "traceback": [
      "\u001b[0;31m---------------------------------------------------------------------------\u001b[0m",
      "\u001b[0;31mTypeError\u001b[0m                                 Traceback (most recent call last)",
      "\u001b[0;32m<ipython-input-121-27b7585a9f9f>\u001b[0m in \u001b[0;36m<module>\u001b[0;34m\u001b[0m\n\u001b[1;32m      6\u001b[0m         \u001b[0mprint\u001b[0m\u001b[0;34m(\u001b[0m\u001b[0mindex\u001b[0m\u001b[0;34m,\u001b[0m\u001b[0mitem\u001b[0m\u001b[0;34m)\u001b[0m\u001b[0;34m\u001b[0m\u001b[0;34m\u001b[0m\u001b[0m\n\u001b[1;32m      7\u001b[0m         \u001b[0;32mif\u001b[0m \u001b[0mindex\u001b[0m\u001b[0;34m==\u001b[0m\u001b[0;36m1\u001b[0m\u001b[0;34m:\u001b[0m\u001b[0;34m\u001b[0m\u001b[0;34m\u001b[0m\u001b[0m\n\u001b[0;32m----> 8\u001b[0;31m             \u001b[0mmy_list\u001b[0m\u001b[0;34m.\u001b[0m\u001b[0mpop\u001b[0m\u001b[0;34m(\u001b[0m\u001b[0mitem\u001b[0m\u001b[0;34m)\u001b[0m\u001b[0;34m\u001b[0m\u001b[0;34m\u001b[0m\u001b[0m\n\u001b[0m",
      "\u001b[0;31mTypeError\u001b[0m: 'str' object cannot be interpreted as an integer"
     ]
    }
   ],
   "source": [
    "my_list = ['a', 'b', 'c', 'd','g','u','t']\n",
    "\n",
    "for i in range(5):\n",
    "    print('********')\n",
    "    for index, item in reversed(list(enumerate(my_list))):\n",
    "        print(index,item)\n",
    "        if index==1:\n",
    "            my_list.pop(item)"
   ]
  },
  {
   "cell_type": "code",
   "execution_count": 139,
   "metadata": {},
   "outputs": [
    {
     "data": {
      "text/plain": [
       "0.3833576687975391"
      ]
     },
     "execution_count": 139,
     "metadata": {},
     "output_type": "execute_result"
    }
   ],
   "source": [
    "np.random.rand()"
   ]
  },
  {
   "cell_type": "code",
   "execution_count": 142,
   "metadata": {},
   "outputs": [
    {
     "data": {
      "text/plain": [
       "array([False, False, False,  True, False,  True,  True, False])"
      ]
     },
     "execution_count": 142,
     "metadata": {},
     "output_type": "execute_result"
    }
   ],
   "source": [
    "success = np.random.uniform(0,1,8) < 0.3\n",
    "\n",
    "success"
   ]
  },
  {
   "cell_type": "code",
   "execution_count": 13,
   "metadata": {},
   "outputs": [],
   "source": [
    "import pandas as pd\n",
    "def f(l,l2,df):\n",
    "    df =pd.DataFrame(data={'l':l,'l2':l2})\n",
    "    "
   ]
  },
  {
   "cell_type": "code",
   "execution_count": 14,
   "metadata": {},
   "outputs": [
    {
     "data": {
      "text/plain": [
       "0"
      ]
     },
     "execution_count": 14,
     "metadata": {},
     "output_type": "execute_result"
    }
   ],
   "source": [
    "df=0\n",
    "f([1,2,3],[5,6,9],df)\n",
    "df\n"
   ]
  },
  {
   "cell_type": "code",
   "execution_count": 8,
   "metadata": {},
   "outputs": [
    {
     "name": "stdout",
     "output_type": "stream",
     "text": [
      "Parallel xx time= 0.1963489055633545\n",
      "[]\n"
     ]
    }
   ],
   "source": [
    "import multiprocessing\n",
    "import time\n",
    "from multiprocessing import Manager\n",
    "\n",
    "with Manager() as manager:\n",
    "    Stat_Global=manager.list() \n",
    "\n",
    "    start_time = time.time()  \n",
    "    processes=[multiprocessing.Process(target=f,args=([1,2,3],[5,6,9]))for i in range(5)] \n",
    "    \n",
    "    [process.start() for process in processes] \n",
    "    [process.join() for process in processes]\n",
    "    end_time = time.time() \n",
    "    print(\"Parallel xx time=\", end_time - start_time)\n",
    "    print(Stat_Global)\n",
    "    for each in Stat_Global:\n",
    "        print(each)"
   ]
  },
  {
   "cell_type": "code",
   "execution_count": 19,
   "metadata": {},
   "outputs": [
    {
     "data": {
      "text/plain": [
       "[None, None, None, None, None, None, None, None, None, None]"
      ]
     },
     "execution_count": 19,
     "metadata": {},
     "output_type": "execute_result"
    }
   ],
   "source": [
    "def f(i):\n",
    "    print(i)\n",
    "from math import modf\n",
    "from joblib import Parallel, delayed\n",
    "r = Parallel(n_jobs=10)(delayed(f)(i) for i in range(10))\n",
    "r"
   ]
  },
  {
   "cell_type": "code",
   "execution_count": null,
   "metadata": {},
   "outputs": [],
   "source": []
  }
 ],
 "metadata": {
  "kernelspec": {
   "display_name": "base",
   "language": "python",
   "name": "python3"
  },
  "language_info": {
   "codemirror_mode": {
    "name": "ipython",
    "version": 3
   },
   "file_extension": ".py",
   "mimetype": "text/x-python",
   "name": "python",
   "nbconvert_exporter": "python",
   "pygments_lexer": "ipython3",
   "version": "3.8.5"
  },
  "orig_nbformat": 4,
  "vscode": {
   "interpreter": {
    "hash": "7b34b089ce0dfc9935940e0a22050b2949fa617f7a2b73925623c261bed16aeb"
   }
  }
 },
 "nbformat": 4,
 "nbformat_minor": 2
}
